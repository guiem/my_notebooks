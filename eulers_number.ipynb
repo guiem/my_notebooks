{
 "cells": [
  {
   "cell_type": "markdown",
   "metadata": {
    "slideshow": {
     "slide_type": "notes"
    }
   },
   "source": [
    "# Euler's number"
   ]
  },
  {
   "cell_type": "markdown",
   "metadata": {},
   "source": [
    "General imports:"
   ]
  },
  {
   "cell_type": "code",
   "execution_count": 1,
   "metadata": {},
   "outputs": [],
   "source": [
    "import math\n",
    "import seaborn as sns\n",
    "sns.set_style(\"darkgrid\")\n",
    "import matplotlib.pyplot as plt\n",
    "%matplotlib inline\n",
    "plt.rcParams['figure.figsize'] = (10, 8)"
   ]
  },
  {
   "cell_type": "markdown",
   "metadata": {
    "collapsed": true
   },
   "source": [
    "## Some facts about $e$"
   ]
  },
  {
   "cell_type": "markdown",
   "metadata": {},
   "source": [
    "Excerpt from a nice thread on $e$: https://www.quora.com/Whats-so-special-about-the-Euler-number-e\n",
    "\n",
    "> There exists a number, $2.718281828...$ and if you take that to the power of anything, represented by x, its derivative will have the exact same curve. It will have all the same properties. And the derivative of the derivative of the derivative... will have the same properties. You could say that the value of the function at a specific point will be the same value as its growth at that point. It is in one way insane. You start to ask questions like: Why that number? Why those digits? It sort of doesn't make any sense. Having for example $2.7^x$ or $3^x$ I won't get the same awesome results but having this weird number I do.\n",
    "\n",
    "> I think it is one of the coolest but still in a way annoying things in the universe. Why couldn't it just have been a more simple number?\n",
    "\n"
   ]
  },
  {
   "cell_type": "code",
   "execution_count": 2,
   "metadata": {},
   "outputs": [
    {
     "data": {
      "text/plain": [
       "2.718281828459045"
      ]
     },
     "execution_count": 2,
     "metadata": {},
     "output_type": "execute_result"
    }
   ],
   "source": [
    "math.exp(1)"
   ]
  },
  {
   "cell_type": "markdown",
   "metadata": {},
   "source": [
    "`math.exp(1)` is the same as $e^1$"
   ]
  },
  {
   "cell_type": "markdown",
   "metadata": {},
   "source": [
    "* $e$ is known as _Euler's Number_ and is the base of **Natural Logarithms**, meaning $e$ is the unique number whose natural logarithm is equal to one"
   ]
  },
  {
   "cell_type": "markdown",
   "metadata": {},
   "source": [
    "$log(e)=1$"
   ]
  },
  {
   "cell_type": "code",
   "execution_count": 3,
   "metadata": {},
   "outputs": [
    {
     "data": {
      "text/plain": [
       "1.0"
      ]
     },
     "execution_count": 3,
     "metadata": {},
     "output_type": "execute_result"
    }
   ],
   "source": [
    "math.log(math.exp(1))"
   ]
  },
  {
   "cell_type": "markdown",
   "metadata": {},
   "source": [
    "* The function $f(x) = e^x$ is called the (natural) exponential function, and is the unique exponential function __equal to its own derivative__. It's the only function on Earth that will do that!"
   ]
  },
  {
   "cell_type": "code",
   "execution_count": 4,
   "metadata": {},
   "outputs": [],
   "source": [
    "def e_x(x):\n",
    "    return math.exp(x)\n",
    "\n",
    "vals_ex = [e_x(x) for x in range(1,100)]"
   ]
  },
  {
   "cell_type": "code",
   "execution_count": 5,
   "metadata": {},
   "outputs": [
    {
     "data": {
      "text/plain": [
       "<matplotlib.legend.Legend at 0x10909ec50>"
      ]
     },
     "execution_count": 5,
     "metadata": {},
     "output_type": "execute_result"
    },
    {
     "data": {
      "image/png": "[encoded data removed]",
      "text/plain": [
       "<matplotlib.figure.Figure at 0x10902e590>"
      ]
     },
     "metadata": {},
     "output_type": "display_data"
    }
   ],
   "source": [
    "fig, ax = plt.subplots(ncols=1, nrows=1)\n",
    "ax.plot(vals_ex,label='e^x')\n",
    "ax.legend(loc='center right', bbox_to_anchor=(1.20, 0.5))"
   ]
  },
  {
   "cell_type": "markdown",
   "metadata": {},
   "source": [
    "## How to calculate $e$?"
   ]
  },
  {
   "cell_type": "markdown",
   "metadata": {},
   "source": [
    "There are several ways to do so, but non of them gives an exact answer because $e$ is an _irrational_ number. For example:"
   ]
  },
  {
   "cell_type": "markdown",
   "metadata": {
    "collapsed": true
   },
   "source": [
    "\\begin{equation*}\n",
    "\\Bigl(1 + \\frac{1}{n}\\Bigr)^n\n",
    "\\end{equation*}\n",
    "\n",
    "or\n",
    "\n",
    "\\begin{equation*}\n",
    "\\sum_{k=0}^n\\frac{1}{k!}\n",
    "\\end{equation*}"
   ]
  },
  {
   "cell_type": "markdown",
   "metadata": {},
   "source": [
    "This expressions approach $e$ as $n$ gets bigger and bigger"
   ]
  },
  {
   "cell_type": "code",
   "execution_count": 2,
   "metadata": {},
   "outputs": [],
   "source": [
    "def calculation_1(n):\n",
    "    return (1+1./n)**n\n",
    "\n",
    "def calculation_2(n):\n",
    "    return sum([1./math.factorial(k) for k in range(0,n+1)])\n",
    "\n",
    "vals_0 = [math.exp(1) for n in range(1,100)]\n",
    "vals_1 = [calculation_1(n) for n in range(1,100)]\n",
    "vals_2 = [calculation_2(n) for n in range(1,100)]"
   ]
  },
  {
   "cell_type": "code",
   "execution_count": 3,
   "metadata": {},
   "outputs": [
    {
     "data": {
      "text/plain": [
       "<matplotlib.legend.Legend at 0x10b9a8a90>"
      ]
     },
     "execution_count": 3,
     "metadata": {},
     "output_type": "execute_result"
    },
    {
     "data": {
      "image/png": "[encoded data removed]",
      "text/plain": [
       "<matplotlib.figure.Figure at 0x10b9288d0>"
      ]
     },
     "metadata": {},
     "output_type": "display_data"
    }
   ],
   "source": [
    "fig, ax = plt.subplots(ncols=1, nrows=1)\n",
    "ax.plot(vals_0,'--',label='e')\n",
    "ax.plot(vals_1,label='1',alpha=0.7)\n",
    "ax.plot(vals_2,label='2',alpha=0.7)\n",
    "ax.legend(loc='center right', bbox_to_anchor=(1.20, 0.5))"
   ]
  }
 ],
 "metadata": {
  "kernelspec": {
   "display_name": "Python 2",
   "language": "python",
   "name": "python2"
  },
  "language_info": {
   "codemirror_mode": {
    "name": "ipython",
    "version": 2
   },
   "file_extension": ".py",
   "mimetype": "text/x-python",
   "name": "python",
   "nbconvert_exporter": "python",
   "pygments_lexer": "ipython2",
   "version": "2.7.10"
  }
 },
 "nbformat": 4,
 "nbformat_minor": 1
}
